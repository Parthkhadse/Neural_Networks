{
 "cells": [
  {
   "cell_type": "code",
   "execution_count": 82,
   "metadata": {},
   "outputs": [],
   "source": [
    "import numpy as np\n",
    "import pandas as pd\n",
    "import matplotlib.pyplot as plt\n",
    "import sklearn.datasets\n",
    "import argparse"
   ]
  },
  {
   "cell_type": "code",
   "execution_count": 83,
   "metadata": {},
   "outputs": [
    {
     "data": {
      "text/plain": [
       "array([[-0.59154619,  0.20506115,  1.61962805,  1.85242076],\n",
       "       [-0.67791305, -0.48978792, -1.6597463 ,  0.82473587],\n",
       "       [ 0.33107502,  0.03566536, -1.33954336, -0.78316175]])"
      ]
     },
     "execution_count": 83,
     "metadata": {},
     "output_type": "execute_result"
    }
   ],
   "source": [
    "# parser = argparse.ArgumentParser(description='Input no. of neurons in layer 1 & 2')\n",
    "# parser.add_argument('no. of neurons in Layer 1', type=int, help='no. of neurons in layer 1')\n",
    "# parser.add_argument('no. of neurons in Layer 2', type=int, help='no. of neurons in layer 2')\n",
    "# args = parser.parse_args()\n",
    "\n",
    "n=np.random.randn(3,3)\n",
    "o = np.random.randn(3,4)\n",
    "np.dot(n,o)"
   ]
  },
  {
   "cell_type": "code",
   "execution_count": 84,
   "metadata": {},
   "outputs": [],
   "source": [
    "digits = sklearn.datasets.load_digits(n_class=10, return_X_y=True)\n",
    "X,Y = digits\n",
    "sd=np.std(X)\n",
    "X = (X*sd)/255\n",
    "# Y = np.array(Y.reshape((1,1797)))\n",
    "y = np.zeros((10,1797))\n",
    "for i in range(1,Y.shape[0]):\n",
    "    a = Y[i]\n",
    "    y[a,i] = 1"
   ]
  },
  {
   "cell_type": "code",
   "execution_count": 85,
   "metadata": {},
   "outputs": [],
   "source": [
    "from sklearn.model_selection import train_test_split\n",
    "X_train,X_test,Y_train,Y_test = train_test_split(X,y.T)\n",
    "X_train = X_train.T\n",
    "Y_train = Y_train.T\n",
    "X_test = X_test.T\n",
    "Y_test = Y_test.T"
   ]
  },
  {
   "cell_type": "code",
   "execution_count": 86,
   "metadata": {},
   "outputs": [],
   "source": [
    "def sigmoid(x):\n",
    "    sig = 1/(1+np.exp(-x))\n",
    "    return sig"
   ]
  },
  {
   "cell_type": "code",
   "execution_count": 87,
   "metadata": {},
   "outputs": [],
   "source": [
    "def init_weights(x,y):\n",
    "    nx = x.shape[0]\n",
    "    n1 = 64\n",
    "    n2 = y.shape[0]\n",
    "    w1 = np.random.rand(n1,nx) * 0.01\n",
    "    b1 = 0                #np.random.randn(n1,1)\n",
    "    w2 = np.random.rand(n2,n1)*0.01\n",
    "    b2= 0                 #np.random.randn(n2,1)\n",
    "    return w1,b1,w2,b2"
   ]
  },
  {
   "cell_type": "code",
   "execution_count": 88,
   "metadata": {},
   "outputs": [],
   "source": [
    "def loss_fun(A2,y):\n",
    "    m = y.shape[1]\n",
    "    logprobs = np.multiply(np.log(A2),y) + np.multiply(np.log(1-A2),(1-y))\n",
    "    cost = (-1/m)*np.sum(logprobs)\n",
    "    cost = float(np.squeeze(cost))  # makes sure cost is the dimension we expect. \n",
    "                                    # E.g., turns [[17]] into 17 \n",
    "    assert(isinstance(cost, float))\n",
    "    return cost"
   ]
  },
  {
   "cell_type": "code",
   "execution_count": 89,
   "metadata": {},
   "outputs": [],
   "source": [
    "def forward_propogate(x,y,w1,b1,w2,b2):\n",
    "    \n",
    "    m = y.shape[1]\n",
    "    #     Forward Propogation\n",
    "    \n",
    "    Z1 = np.matmul(w1,x) + b1\n",
    "    A1 = sigmoid(Z1)\n",
    "    Z2 = np.matmul(w2,A1) + b2\n",
    "    A2 = sigmoid(Z2)\n",
    "    \n",
    "    return Z1,A1,Z2,A2\n",
    "        "
   ]
  },
  {
   "cell_type": "code",
   "execution_count": 90,
   "metadata": {},
   "outputs": [],
   "source": [
    "def back_propogate(w1,w2,Z1,A1,Z2,A2,x,y):\n",
    "    m = y.shape[1]\n",
    "    cost = loss_fun(A2,y)\n",
    "    dZ2 = A2 - y\n",
    "    dw2 = np.matmul(dZ2, A1.T)/m\n",
    "    db2 = np.sum(dZ2, axis=1,keepdims = True)/m\n",
    "    dZ1 = np.matmul(w2.T,dZ2) * (A1*(1-A1))\n",
    "    dw1 = np.matmul(dZ1,x.T)/m\n",
    "    db1 = np.sum(dZ1, axis=1,keepdims = True)/m\n",
    "    \n",
    "    return dw1,db1,dw2,db2,cost \n"
   ]
  },
  {
   "cell_type": "code",
   "execution_count": 91,
   "metadata": {},
   "outputs": [],
   "source": [
    "def optimize(x,y,w1,b1,w2,b2,iters=100,learning_rate=0.5):\n",
    "    loss = []\n",
    "    idx = []\n",
    "    for i in range(iters):\n",
    "        z1,a1,z2,a2 = forward_propogate(x,y,w1,b1,w2,b2)\n",
    "        dw1,db1,dw2,db2,cost = back_propogate(w1,w2,z1,a1,z2,a2,x,y)\n",
    "        \n",
    "        if (i % 100 == 0):\n",
    "            loss.append(cost)\n",
    "            idx.append(i)\n",
    "            \n",
    "            \n",
    "        w1 = w1 - (learning_rate*dw1)\n",
    "        w2 = w2 - (learning_rate*dw2)\n",
    "        b1 = b1 - (learning_rate*db1)\n",
    "        b2 = b2 - (learning_rate*db2)\n",
    "   \n",
    "    return w1,b1,w2,b2,loss,idx\n",
    "    "
   ]
  },
  {
   "cell_type": "code",
   "execution_count": 92,
   "metadata": {},
   "outputs": [],
   "source": [
    "def predict(w1,b1,w2,b2,x,y):\n",
    "    z1,a1,z2,a2 = forward_propogate(x,y,w1,b1,w2,b2)\n",
    "    predictions = (a2>0.5)\n",
    "    return predictions"
   ]
  },
  {
   "cell_type": "code",
   "execution_count": 99,
   "metadata": {},
   "outputs": [],
   "source": [
    "def Accuracy(y,prediction):\n",
    "    t = (prediction==y)\n",
    "    accuracy = np.mean(t)*100\n",
    "    return t,accuracy"
   ]
  },
  {
   "cell_type": "code",
   "execution_count": 94,
   "metadata": {},
   "outputs": [
    {
     "name": "stdout",
     "output_type": "stream",
     "text": [
      "(64, 64)\n",
      "(10, 64)\n",
      "(64, 1347)\n"
     ]
    }
   ],
   "source": [
    "w1,b1,w2,b2 = init_weights(X_train,Y_train)\n",
    "print(w1.shape)\n",
    "print(w2.shape)\n",
    "print(X_train.shape)\n",
    "W1,B1,W2,B2,loss,index = optimize(X_train,Y_train, w1, b1, w2, b2, 1000,1)"
   ]
  },
  {
   "cell_type": "code",
   "execution_count": 98,
   "metadata": {},
   "outputs": [
    {
     "name": "stdout",
     "output_type": "stream",
     "text": [
      "[[2.97831291e-05]\n",
      " [3.56173757e-04]\n",
      " [9.59623401e-01]\n",
      " [1.98195364e-01]\n",
      " [6.10477442e-09]\n",
      " [4.57847397e-03]\n",
      " [3.42410856e-04]\n",
      " [4.58941748e-05]\n",
      " [3.27444868e-02]\n",
      " [6.07165833e-05]]\n",
      "2\n",
      "2\n"
     ]
    },
    {
     "data": {
      "text/plain": [
       "(10, 1)"
      ]
     },
     "execution_count": 98,
     "metadata": {},
     "output_type": "execute_result"
    }
   ],
   "source": [
    "# print ('Accuracy: %d' % float(np.sum((np.dot(Y_test,predictions.T),axis=1,keepdims=True) + np.sum(np.dot(1-Y_test,1-predictions.T)),axis=1,keepdims=True)/float(Y_test.size)*100) + '%')\n",
    "test = X[648]\n",
    "test=test.reshape((64,1))\n",
    "Z1 = np.dot(W1,test) + B1\n",
    "A1 = sigmoid(Z1)\n",
    "Z2 = np.dot(W2,A1) + B2\n",
    "x2 = sigmoid(Z2)\n",
    "# print(Z2)\n",
    "op = np.argmax(x2)\n",
    "print(sigmoid(Z2))\n",
    "print(op)\n",
    "print(Y[648])\n",
    "x2.shape\n",
    "# predictions=predict(W1,B1,W2,B2,X_test,Y_test)\n",
    "# print ('Accuracy: %d' % float(np.sum((np.dot(Y_test,predictions.T),axis=1,keepdims=True) + np.sum(np.dot(1-Y_test,1-predictions.T)),axis=1,keepdims=True)/float(Y_test.size)*100) + '%')\n",
    "# (np.sum((np.matmul(Y_test,predictions.T),axis=1,keepdims=True) +\n",
    "#              np.sum(np.matmul(1-Y_test,1-predictions.T)),axis=1,keepdims=True)/float(Y_test.size)*100)\n",
    "# Y[999]\n",
    "# test = X[999]\n",
    "# _,yp = predict(W1,B1,W2,B2,test)\n",
    "# # print(yp.shape)\n",
    "# # a = max(yp)\n",
    "# # print(a)\n",
    "# # print(np.where(yp==a))\n",
    "# print(_)\n",
    "# print(Y[999])\n",
    "# print(yp)"
   ]
  },
  {
   "cell_type": "code",
   "execution_count": 96,
   "metadata": {},
   "outputs": [
    {
     "data": {
      "text/plain": [
       "[7.651605551816209,\n",
       " 3.2471929495081775,\n",
       " 3.1929550515197627,\n",
       " 2.429406795021765,\n",
       " 1.7232965279287549,\n",
       " 1.3218488643561135,\n",
       " 1.0371149762615977,\n",
       " 0.8363545091027759,\n",
       " 0.6762571940536015,\n",
       " 0.5653000061665752]"
      ]
     },
     "execution_count": 96,
     "metadata": {},
     "output_type": "execute_result"
    }
   ],
   "source": [
    "# plt.imshow(X[457].reshape(8,8), cmap = plt.cm.binary)\n",
    "loss"
   ]
  },
  {
   "cell_type": "code",
   "execution_count": 102,
   "metadata": {},
   "outputs": [
    {
     "data": {
      "text/plain": [
       "array([[ True,  True,  True, ...,  True,  True,  True],\n",
       "       [ True, False,  True, ...,  True,  True,  True],\n",
       "       [ True,  True,  True, ...,  True,  True,  True],\n",
       "       ...,\n",
       "       [ True,  True,  True, ...,  True,  True,  True],\n",
       "       [ True,  True,  True, ...,  True,  True,  True],\n",
       "       [ True,  True,  True, ...,  True,  True,  True]])"
      ]
     },
     "execution_count": 102,
     "metadata": {},
     "output_type": "execute_result"
    },
    {
     "data": {
      "image/png": "[encoded data removed]",
      "text/plain": [
       "<Figure size 432x288 with 1 Axes>"
      ]
     },
     "metadata": {
      "needs_background": "light"
     },
     "output_type": "display_data"
    }
   ],
   "source": [
    "s=predict(W1,B1,W2,B2,X_test,Y_test)\n",
    "orig = np.sum(Y_test)\n",
    "# s = np.sum(s)\n",
    "true = (s==Y_test)\n",
    "plt.plot(index,loss)\n",
    "t,b=Accuracy(Y_test,s)\n",
    "t\n",
    "# print('The accuracy is:%d'%float(Accuracy(Y_test,s)) + '%')"
   ]
  },
  {
   "cell_type": "code",
   "execution_count": null,
   "metadata": {},
   "outputs": [],
   "source": []
  }
 ],
 "metadata": {
  "kernelspec": {
   "display_name": "Python 3",
   "language": "python",
   "name": "python3"
  },
  "language_info": {
   "codemirror_mode": {
    "name": "ipython",
    "version": 3
   },
   "file_extension": ".py",
   "mimetype": "text/x-python",
   "name": "python",
   "nbconvert_exporter": "python",
   "pygments_lexer": "ipython3",
   "version": "3.6.9"
  }
 },
 "nbformat": 4,
 "nbformat_minor": 2
}
