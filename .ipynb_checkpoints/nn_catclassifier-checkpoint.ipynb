{
 "cells": [
  {
   "cell_type": "code",
   "execution_count": 1,
   "metadata": {},
   "outputs": [],
   "source": [
    "import numpy as np\n",
    "import pandas as pd\n",
    "import scipy.io\n",
    "import matplotlib.pyplot as plt\n",
    "import cv2\n",
    "import os\n",
    "import random\n",
    "from sklearn.metrics import accuracy_score,confusion_matrix\n",
    "from sklearn import preprocessing"
   ]
  },
  {
   "cell_type": "code",
   "execution_count": 2,
   "metadata": {},
   "outputs": [],
   "source": [
    "def create_dataset(PATH, img_size=50):\n",
    "    CATEGORIES = [\"cats\", \"dogs\"]\n",
    "    data = []\n",
    "    for category in CATEGORIES:\n",
    "        path = os.path.join(PATH, category)\n",
    "        label = CATEGORIES.index(category)\n",
    "        for file in os.listdir(path):\n",
    "            im = cv2.imread(os.path.join(path, file), cv2.IMREAD_GRAYSCALE)\n",
    "            img = cv2.resize(im, (img_size,img_size), interpolation=cv2.INTER_AREA)\n",
    "            data.append([img,label])\n",
    "        \n",
    "    random.shuffle(data)\n",
    "    X = []\n",
    "    Y = []\n",
    "\n",
    "    for image,label in data:\n",
    "        X.append(image)\n",
    "        Y.append(label)\n",
    "    X = np.array(X)\n",
    "    Y = np.array(Y)\n",
    "    return X,Y,data"
   ]
  },
  {
   "cell_type": "code",
   "execution_count": 3,
   "metadata": {},
   "outputs": [],
   "source": [
    "def unroll_image(X,y):\n",
    "    x = X.reshape(X.shape[0],-1).T\n",
    "    y = y.reshape(y.shape[0],-1).T\n",
    "    return x,y"
   ]
  },
  {
   "cell_type": "code",
   "execution_count": 5,
   "metadata": {},
   "outputs": [
    {
     "data": {
      "image/png": "[encoded data removed]",
      "text/plain": [
       "<Figure size 432x288 with 1 Axes>"
      ]
     },
     "metadata": {
      "needs_background": "light"
     },
     "output_type": "display_data"
    }
   ],
   "source": [
    "X,y,data = create_dataset('/home/parth/Documents/PARTH/datas/train',50)\n",
    "X_train,Y_train=unroll_image(X,y)\n",
    "sd = np.std(X_train)\n",
    "nX = preprocessing.normalize(X_train)\n",
    "X_train=nX\n",
    "\n",
    "a,b = data[1]\n",
    "plt.imshow(a,cmap=\"gray\")\n",
    "plt.show()"
   ]
  },
  {
   "cell_type": "code",
   "execution_count": 6,
   "metadata": {},
   "outputs": [],
   "source": [
    "def sigmoid(x):\n",
    "    sig = 1/(1+np.exp(-x))\n",
    "    return sig"
   ]
  },
  {
   "cell_type": "code",
   "execution_count": 7,
   "metadata": {},
   "outputs": [],
   "source": [
    "def init_weights(x,y):\n",
    "    nx = x.shape[0]\n",
    "    n1 = 100\n",
    "    n2 = y.shape[0]\n",
    "    w1 = np.random.rand(n1,nx) * 0.01\n",
    "    b1 = 0                #np.random.randn(n1,1)\n",
    "    w2 = np.random.rand(n2,n1)*0.01\n",
    "    b2= 0                 #np.random.randn(n2,1)\n",
    "    \n",
    "    weights = {\"w1\":w1,\n",
    "               \"b1\":b1,\n",
    "               \"w2\":w2,\n",
    "               \"b2\":b2}\n",
    "    return weights"
   ]
  },
  {
   "cell_type": "code",
   "execution_count": 8,
   "metadata": {},
   "outputs": [],
   "source": [
    "def loss_fun(A2,y):\n",
    "    m = y.shape[1]\n",
    "    logprobs = np.multiply(np.log(A2),y) + np.multiply(np.log(1-A2),(1-y))\n",
    "    cost = (-1/m)*np.sum(logprobs)\n",
    "    cost = float(np.squeeze(cost))  # makes sure cost is the dimension we expect. \n",
    "                                    # E.g., turns [[17]] into 17 \n",
    "    assert(isinstance(cost, float))\n",
    "    return cost"
   ]
  },
  {
   "cell_type": "code",
   "execution_count": 9,
   "metadata": {},
   "outputs": [],
   "source": [
    "def forward_propogate(x,y,weights):\n",
    "    w1 = weights[\"w1\"]\n",
    "    b1 = weights[\"b1\"]\n",
    "    w2 = weights[\"w2\"]\n",
    "    b2 = weights[\"b2\"]\n",
    "    \n",
    "    m = y.shape[1]\n",
    "    #     Forward Propogation\n",
    "    \n",
    "    Z1 = np.matmul(w1,x) + b1\n",
    "    A1 = sigmoid(Z1)\n",
    "    Z2 = np.matmul(w2,A1) + b2\n",
    "    A2 = sigmoid(Z2)\n",
    "    \n",
    "    cache = {\"Z1\":Z1,\n",
    "             \"A1\":A1,\n",
    "             \"Z2\":Z2,\n",
    "             \"A2\":A2}\n",
    "    \n",
    "    return cache\n",
    "        "
   ]
  },
  {
   "cell_type": "code",
   "execution_count": 10,
   "metadata": {},
   "outputs": [],
   "source": [
    "def back_propogate(weights,cache,x,y):\n",
    "    w1 = weights[\"w1\"]\n",
    "    w2 = weights[\"w2\"]\n",
    "    \n",
    "    Z1 = cache[\"Z1\"]\n",
    "    A1 = cache[\"A1\"]\n",
    "    Z2 = cache[\"Z2\"]\n",
    "    A2 = cache[\"A2\"]\n",
    "    \n",
    "    m = y.shape[1]\n",
    "    cost = loss_fun(A2,y)\n",
    "    dZ2 = A2 - y\n",
    "    dw2 = np.matmul(dZ2, A1.T)/m\n",
    "    db2 = np.sum(dZ2, axis=1,keepdims = True)/m\n",
    "    dZ1 = np.matmul(w2.T,dZ2) * (A1*(1-A1))\n",
    "    dw1 = np.matmul(dZ1,x.T)/m\n",
    "    db1 = np.sum(dZ1, axis=1,keepdims = True)/m\n",
    "    \n",
    "    grads = {\"dw1\":dw1,\n",
    "             \"db1\":db1,\n",
    "             \"dw2\":dw2,\n",
    "             \"db2\":db2}\n",
    "    \n",
    "    return grads,cost \n"
   ]
  },
  {
   "cell_type": "code",
   "execution_count": 11,
   "metadata": {},
   "outputs": [],
   "source": [
    "def optimize(x,y,weights,iters=100,learning_rate=0.5):\n",
    "    \n",
    "    loss = []\n",
    "    idx = []\n",
    "    for i in range(iters):\n",
    "        cache = forward_propogate(x,y,weights)\n",
    "        grads,cost = back_propogate(weights,cache,x,y)\n",
    "        \n",
    "        w1 = weights[\"w1\"]\n",
    "        b1 = weights[\"b1\"]\n",
    "        w2 = weights[\"w2\"]\n",
    "        b2 = weights[\"b2\"]\n",
    "        \n",
    "        dw1 = grads[\"dw1\"]\n",
    "        db1 = grads[\"db1\"]\n",
    "        dw2 = grads[\"dw2\"]\n",
    "        db2 = grads[\"db2\"]\n",
    "        \n",
    "        \n",
    "        if (i % 100 == 0):\n",
    "            loss.append(cost)\n",
    "            idx.append(i)\n",
    "            \n",
    "            \n",
    "        w1 = w1 - (learning_rate*dw1)\n",
    "        w2 = w2 - (learning_rate*dw2)\n",
    "        b1 = b1 - (learning_rate*db1)\n",
    "        b2 = b2 - (learning_rate*db2)\n",
    "        \n",
    "        weights = {\"w1\":w1,\n",
    "                   \"b1\":b1,\n",
    "                   \"w2\":w2,\n",
    "                   \"b2\":b2}\n",
    "    \n",
    "    return weights,loss,idx\n",
    "    "
   ]
  },
  {
   "cell_type": "code",
   "execution_count": 29,
   "metadata": {},
   "outputs": [],
   "source": [
    "def predict(weights,x,y):\n",
    "    w1 = weights[\"w1\"]\n",
    "    b1 = weights[\"b1\"]\n",
    "    w2 = weights[\"w2\"]\n",
    "    b2 = weights[\"b2\"]\n",
    "    \n",
    "    cache = forward_propogate(x,y,weights)\n",
    "    a2 = cache[\"A2\"]\n",
    "    predictions = (a2>0.5)\n",
    "    return predictions"
   ]
  },
  {
   "cell_type": "code",
   "execution_count": 13,
   "metadata": {},
   "outputs": [],
   "source": [
    "def Accuracy(y,prediction):\n",
    "    t = (prediction==y)\n",
    "    accuracy = np.mean(t)*100\n",
    "    return accuracy"
   ]
  },
  {
   "cell_type": "code",
   "execution_count": 14,
   "metadata": {},
   "outputs": [],
   "source": [
    "def confidence(a):\n",
    "    perc = (1-a)*100\n",
    "    return perc"
   ]
  },
  {
   "cell_type": "code",
   "execution_count": 15,
   "metadata": {},
   "outputs": [
    {
     "name": "stderr",
     "output_type": "stream",
     "text": [
      "<ipython-input-8-bd86391b2e82>:3: RuntimeWarning: divide by zero encountered in log\n",
      "  logprobs = np.multiply(np.log(A2),y) + np.multiply(np.log(1-A2),(1-y))\n",
      "<ipython-input-8-bd86391b2e82>:3: RuntimeWarning: invalid value encountered in multiply\n",
      "  logprobs = np.multiply(np.log(A2),y) + np.multiply(np.log(1-A2),(1-y))\n"
     ]
    }
   ],
   "source": [
    "weight = init_weights(X_train, Y_train)\n",
    "weights,loss,index = optimize(X_train, Y_train, weight, 2000, 1.5)"
   ]
  },
  {
   "cell_type": "code",
   "execution_count": 30,
   "metadata": {},
   "outputs": [
    {
     "name": "stdout",
     "output_type": "stream",
     "text": [
      "Predictions of test set are : [[ True False  True  True False  True  True  True  True  True]]\n",
      "\n",
      "Actual Labels of Test set are : [[0 1 1 0 0 1 0 0 1 1]]\n"
     ]
    }
   ],
   "source": [
    "X,y,data = create_dataset('/home/parth/Documents/PARTH/datas/test',50)\n",
    "X_test,Y_test=unroll_image(X,y)\n",
    "sd = np.std(X_test)\n",
    "nX = preprocessing.normalize(X_test)\n",
    "X_test=nX\n",
    "\n",
    "# print(X_test.shape)\n",
    "# print(weights[\"w1\"].shape)\n",
    "a=np.array(X_test[:,1]).reshape(2500,-1)\n",
    "b=np.array(Y_test[:,1]).reshape(1,-1)\n",
    "C = forward_propogate(X_test,Y_test,weights)\n",
    "# a2 = C[\"A2\"]\n",
    "z2 = C[\"Z2\"]\n",
    "at = predict(weights,X_test,Y_test)\n",
    "\n",
    "print(\"Predictions of test set are : \" + str(at) + str(\"\\n\"))\n",
    "print(\"Actual Labels of Test set are : \" + str(Y_test))\n",
    "# print(z2)\n",
    "\n",
    "# a=X[:,1].reshape(1225,-1)\n",
    "# a.shape\n",
    "# b=Y[:,1].reshape(1,-1)\n",
    "# C = forward_propogate(X,Y,weights)\n",
    "# a2 = C[\"A2\"]\n",
    "# z2 =C[\"Z2\"]\n",
    "# at = predict(weights,X,Y)\n",
    "# print(predict(weights,X,Y).shape)\n",
    "# print(Y.shape)"
   ]
  },
  {
   "cell_type": "code",
   "execution_count": 33,
   "metadata": {},
   "outputs": [
    {
     "name": "stdout",
     "output_type": "stream",
     "text": [
      "Accuracy of prediction on test set is : 50.0\n"
     ]
    }
   ],
   "source": [
    "print(\"Accuracy of prediction on test set is : \" + str(Accuracy(Y_test,at)))"
   ]
  },
  {
   "cell_type": "code",
   "execution_count": 35,
   "metadata": {},
   "outputs": [
    {
     "name": "stdout",
     "output_type": "stream",
     "text": [
      "the image is 100% cat\n"
     ]
    },
    {
     "data": {
      "image/png": "[encoded data removed]",
      "text/plain": [
       "<Figure size 432x288 with 1 Axes>"
      ]
     },
     "metadata": {
      "needs_background": "light"
     },
     "output_type": "display_data"
    }
   ],
   "source": [
    "v=predict(weights, a ,b)\n",
    "print('the image is %d'%confidence(v) + '%' + \" cat\")\n",
    "a = a.reshape(50,-1)\n",
    "plt.imshow(a,cmap=\"gray\")\n",
    "plt.show()"
   ]
  },
  {
   "cell_type": "code",
   "execution_count": null,
   "metadata": {},
   "outputs": [],
   "source": []
  }
 ],
 "metadata": {
  "kernelspec": {
   "display_name": "Python 3",
   "language": "python",
   "name": "python3"
  },
  "language_info": {
   "codemirror_mode": {
    "name": "ipython",
    "version": 3
   },
   "file_extension": ".py",
   "mimetype": "text/x-python",
   "name": "python",
   "nbconvert_exporter": "python",
   "pygments_lexer": "ipython3",
   "version": "3.8.2"
  }
 },
 "nbformat": 4,
 "nbformat_minor": 2
}
